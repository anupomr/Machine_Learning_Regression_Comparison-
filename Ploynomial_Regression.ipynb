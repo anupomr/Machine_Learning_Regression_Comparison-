{
  "nbformat": 4,
  "nbformat_minor": 0,
  "metadata": {
    "colab": {
      "name": "Ploynomial_Regression.ipynb",
      "provenance": [],
      "authorship_tag": "ABX9TyN+G95V/3m+DKHb40XuqrHN",
      "include_colab_link": true
    },
    "kernelspec": {
      "name": "python3",
      "display_name": "Python 3"
    }
  },
  "cells": [
    {
      "cell_type": "markdown",
      "metadata": {
        "id": "view-in-github",
        "colab_type": "text"
      },
      "source": [
        "<a href=\"https://colab.research.google.com/github/anupomr/Machine_Learning_Regression_Comparison-/blob/master/Ploynomial_Regression.ipynb\" target=\"_parent\"><img src=\"https://colab.research.google.com/assets/colab-badge.svg\" alt=\"Open In Colab\"/></a>"
      ]
    },
    {
      "cell_type": "markdown",
      "metadata": {
        "id": "Gi2nuwLQq4y4",
        "colab_type": "text"
      },
      "source": [
        "# Ploynomial Regression"
      ]
    },
    {
      "cell_type": "markdown",
      "metadata": {
        "id": "7K2JjrdBq-nc",
        "colab_type": "text"
      },
      "source": [
        "### Importing the libraries "
      ]
    },
    {
      "cell_type": "code",
      "metadata": {
        "id": "m9M1AUn3qesV",
        "colab_type": "code",
        "colab": {}
      },
      "source": [
        "import numpy as np\n",
        "import matplotlib.pyplot as plt\n",
        "import pandas as pd"
      ],
      "execution_count": 0,
      "outputs": []
    },
    {
      "cell_type": "markdown",
      "metadata": {
        "id": "dM7MRv9TrQ81",
        "colab_type": "text"
      },
      "source": [
        "### Importing the dataset "
      ]
    },
    {
      "cell_type": "code",
      "metadata": {
        "id": "aCSyRaujsAIl",
        "colab_type": "code",
        "colab": {}
      },
      "source": [
        "dataset = pd.read_csv('Data.csv')\n",
        "X = dataset.iloc[:, :-1].values\n",
        "y = dataset.iloc[:, -1].values"
      ],
      "execution_count": 0,
      "outputs": []
    },
    {
      "cell_type": "markdown",
      "metadata": {
        "id": "MMvcydW6tRiC",
        "colab_type": "text"
      },
      "source": [
        "### Spliting the dataset into the Training set and test set"
      ]
    },
    {
      "cell_type": "code",
      "metadata": {
        "id": "O8OktuJLtRyt",
        "colab_type": "code",
        "colab": {}
      },
      "source": [
        "from sklearn.model_selection import train_test_split\n",
        "X_train, X_test, y_train, y_test = train_test_split(X, y, test_size = 0.2, random_state = 0)"
      ],
      "execution_count": 0,
      "outputs": []
    },
    {
      "cell_type": "markdown",
      "metadata": {
        "id": "eUBcWuHPuJoQ",
        "colab_type": "text"
      },
      "source": [
        "### Training Polynomial Regression model on the training set"
      ]
    },
    {
      "cell_type": "code",
      "metadata": {
        "id": "VeyZMRr_uafm",
        "colab_type": "code",
        "colab": {
          "base_uri": "https://localhost:8080/",
          "height": 34
        },
        "outputId": "e3c1cc65-f769-47a0-ce4d-b4792d1db66e"
      },
      "source": [
        "from sklearn.preprocessing import PolynomialFeatures\n",
        "from sklearn.linear_model import LinearRegression\n",
        "poly_reg =PolynomialFeatures( degree = 4)\n",
        "X_poly = poly_reg.fit_transform(X_train)\n",
        "regressor = LinearRegression()\n",
        "regressor.fit(X_poly, y_train)"
      ],
      "execution_count": 9,
      "outputs": [
        {
          "output_type": "execute_result",
          "data": {
            "text/plain": [
              "LinearRegression(copy_X=True, fit_intercept=True, n_jobs=None, normalize=False)"
            ]
          },
          "metadata": {
            "tags": []
          },
          "execution_count": 9
        }
      ]
    },
    {
      "cell_type": "markdown",
      "metadata": {
        "id": "Kwk4sSvL1Gqa",
        "colab_type": "text"
      },
      "source": [
        "### Predicting the test result"
      ]
    },
    {
      "cell_type": "code",
      "metadata": {
        "id": "KN8VMV2P1OfX",
        "colab_type": "code",
        "colab": {
          "base_uri": "https://localhost:8080/",
          "height": 136
        },
        "outputId": "dfab9f9e-eb3f-4b27-b53d-aa6ba0e54ba7"
      },
      "source": [
        "y_pred =regressor.predict(poly_reg.transform(X_test))\n",
        "np.set_printoptions( precision=2)\n",
        "print(np.concatenate((y_pred.reshape(len(y_pred), 1), y_test.reshape(len(y_test), 1)), 1))\n"
      ],
      "execution_count": 10,
      "outputs": [
        {
          "output_type": "stream",
          "text": [
            "[[433.94 431.23]\n",
            " [457.9  460.01]\n",
            " [460.52 461.14]\n",
            " ...\n",
            " [469.53 473.26]\n",
            " [438.27 438.  ]\n",
            " [461.66 463.28]]\n"
          ],
          "name": "stdout"
        }
      ]
    },
    {
      "cell_type": "markdown",
      "metadata": {
        "id": "-leL_JAw4wki",
        "colab_type": "text"
      },
      "source": [
        "### Evaluating the Model performence "
      ]
    },
    {
      "cell_type": "code",
      "metadata": {
        "id": "4I2MK5n04wuO",
        "colab_type": "code",
        "colab": {
          "base_uri": "https://localhost:8080/",
          "height": 34
        },
        "outputId": "a6794fb5-0154-4959-b652-03273ed0bb6a"
      },
      "source": [
        "from sklearn.metrics import r2_score\n",
        "r2_score(y_test, y_pred)"
      ],
      "execution_count": 11,
      "outputs": [
        {
          "output_type": "execute_result",
          "data": {
            "text/plain": [
              "0.9458192606428147"
            ]
          },
          "metadata": {
            "tags": []
          },
          "execution_count": 11
        }
      ]
    }
  ]
}